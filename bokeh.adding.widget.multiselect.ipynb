{
 "cells": [
  {
   "cell_type": "code",
   "execution_count": 1,
   "id": "401a3c09",
   "metadata": {},
   "outputs": [],
   "source": [
    "from bokeh.io import show\n",
    "from bokeh.models import CustomJS, MultiSelect"
   ]
  },
  {
   "cell_type": "code",
   "execution_count": 4,
   "id": "df6087d9",
   "metadata": {},
   "outputs": [],
   "source": [
    "OPTIONS = [(\"1\", \"foo\"), (\"2\", \"bar\"), (\"3\", \"baz\"), (\"4\", \"quux\")]\n",
    "\n",
    "multi_select = MultiSelect(value=[\"1\", \"2\"], options=OPTIONS)\n",
    "multi_select.js_on_change(\"value\", CustomJS(code=\"\"\"\n",
    "    console.log('multi_select: value=' + this.value, this.toString())\n",
    "\"\"\"))\n",
    "\n",
    "show(multi_select)"
   ]
  },
  {
   "cell_type": "code",
   "execution_count": null,
   "id": "597a0a94",
   "metadata": {},
   "outputs": [],
   "source": []
  }
 ],
 "metadata": {
  "kernelspec": {
   "display_name": "Python 3 (ipykernel)",
   "language": "python",
   "name": "python3"
  },
  "language_info": {
   "codemirror_mode": {
    "name": "ipython",
    "version": 3
   },
   "file_extension": ".py",
   "mimetype": "text/x-python",
   "name": "python",
   "nbconvert_exporter": "python",
   "pygments_lexer": "ipython3",
   "version": "3.10.5"
  }
 },
 "nbformat": 4,
 "nbformat_minor": 5
}
